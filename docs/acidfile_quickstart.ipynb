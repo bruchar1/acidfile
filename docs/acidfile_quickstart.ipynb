{
 "metadata": {
  "name": ""
 },
 "nbformat": 3,
 "nbformat_minor": 0,
 "worksheets": [
  {
   "cells": [
    {
     "cell_type": "markdown",
     "metadata": {
      "slideshow": {
       "slide_type": "slide"
      }
     },
     "source": [
      "#acidfile quickstart\n",
      "\n",
      "`acidfile` module provides the ACIDFile object. This object can be used as a\n",
      "regular file object but instead of write one copy of the data, it will write\n",
      "several copies to disk in an ACID manner.\n",
      "\n",
      "This algorithm was explained by [Elvis Pf\u00fctzenreuter](epx@epx.com.br) in his blog post\n",
      "[Achieving ACID transactions with common files](http://epx.com.br/artigos/arqtrans_en.php)\n",
      "\n",
      "![](https://travis-ci.org/nilp0inter/acidfile.png?branch=develop)\n",
      "\n",
      "Latest stable version can be found on [PyPI](https://pypi.python.org/pypi/acidfile).\n",
      "\n",
      "![](https://pypip.in/v/acidfile/badge.png)\n",
      "![](https://pypip.in/d/acidfile/badge.png)\n",
      "\n",
      "`acidfile` is compatible with python 2.7 and 3.3"
     ]
    },
    {
     "cell_type": "markdown",
     "metadata": {
      "slideshow": {
       "slide_type": "slide"
      }
     },
     "source": [
      "##Installation\n",
      "\n",
      "Latest version can be installed via `pip`"
     ]
    },
    {
     "cell_type": "code",
     "collapsed": false,
     "input": [
      "%%bash\n",
      "pip install --upgrade acidfile"
     ],
     "language": "python",
     "metadata": {},
     "outputs": [
      {
       "output_type": "stream",
       "stream": "stdout",
       "text": [
        "Downloading/unpacking acidfile\n",
        "  Downloading acidfile-1.1.0.tar.gz\n",
        "  Running setup.py egg_info for package acidfile\n",
        "    \n",
        "Installing collected packages: acidfile\n",
        "  Running setup.py install for acidfile\n",
        "    \n",
        "Successfully installed acidfile\n",
        "Cleaning up...\n"
       ]
      }
     ],
     "prompt_number": 1
    },
    {
     "cell_type": "markdown",
     "metadata": {
      "slideshow": {
       "slide_type": "subslide"
      }
     },
     "source": [
      "##Running the tests\n",
      "\n",
      "Clone this repository and install the develop requirements."
     ]
    },
    {
     "cell_type": "code",
     "collapsed": false,
     "input": [
      "%%bash\n",
      "git clone https://github.com/nilp0inter/acidfile.git\n",
      "cd acidfile\n",
      "pip install -r requirements/develop.txt\n",
      "python setup.py develop\n",
      "tox"
     ],
     "language": "python",
     "metadata": {
      "slideshow": {
       "slide_type": "-"
      }
     },
     "outputs": [
      {
       "output_type": "stream",
       "stream": "stdout",
       "text": [
        "Cloning into 'acidfile'...\n",
        "Downloading/unpacking tox==1.6.1 (from -r requirements/develop.txt (line 1))\n",
        "  Running setup.py egg_info for package tox\n",
        "    \n",
        "Downloading/unpacking virtualenv>=1.9.1 (from tox==1.6.1->-r requirements/develop.txt (line 1))\n",
        "  Running setup.py egg_info for package virtualenv\n",
        "    \n",
        "    warning: no files found matching '*.egg' under directory 'virtualenv_support'\n",
        "    warning: no previously-included files matching '*' found under directory 'docs/_templates'\n",
        "    warning: no previously-included files matching '*' found under directory 'docs/_build'\n",
        "Downloading/unpacking py>=1.4.15 (from tox==1.6.1->-r requirements/develop.txt (line 1))\n",
        "  Running setup.py egg_info for package py\n",
        "    \n",
        "Installing collected packages: tox, virtualenv, py\n",
        "  Running setup.py install for tox\n",
        "    \n",
        "    Installing tox-quickstart script to /home/nil/Envs/acidfile3/bin\n",
        "    Installing tox script to /home/nil/Envs/acidfile3/bin\n",
        "  Running setup.py install for virtualenv\n",
        "    \n",
        "    warning: no files found matching '*.egg' under directory 'virtualenv_support'\n",
        "    warning: no previously-included files matching '*' found under directory 'docs/_templates'\n",
        "    warning: no previously-included files matching '*' found under directory 'docs/_build'\n",
        "    Installing virtualenv script to /home/nil/Envs/acidfile3/bin\n",
        "    Installing virtualenv-3.3 script to /home/nil/Envs/acidfile3/bin\n",
        "  Running setup.py install for py\n",
        "    \n",
        "Successfully installed tox virtualenv py\n",
        "Cleaning up...\n",
        "running develop\n",
        "running egg_info\n",
        "creating src/acidfile.egg-info\n",
        "writing dependency_links to src/acidfile.egg-info/dependency_links.txt\n",
        "writing src/acidfile.egg-info/PKG-INFO\n",
        "writing top-level names to src/acidfile.egg-info/top_level.txt\n",
        "writing manifest file 'src/acidfile.egg-info/SOURCES.txt'\n",
        "reading manifest file 'src/acidfile.egg-info/SOURCES.txt'\n",
        "reading manifest template 'MANIFEST.in'\n",
        "writing manifest file 'src/acidfile.egg-info/SOURCES.txt'\n",
        "running build_ext\n",
        "Creating /home/nil/Envs/acidfile3/lib/python3.3/site-packages/acidfile.egg-link (link to src)\n",
        "Adding acidfile 1.1.0 to easy-install.pth file\n",
        "\n",
        "Installed /home/nil/Projects/acidfile/docs/acidfile/src\n",
        "Processing dependencies for acidfile==1.1.0\n",
        "Finished processing dependencies for acidfile==1.1.0\n",
        "GLOB sdist-make: /home/nil/Projects/acidfile/docs/acidfile/setup.py\n",
        "py27 create: /home/nil/Projects/acidfile/docs/acidfile/.tox/py27\n",
        "py27 installdeps: behave\n",
        "py27 inst: /home/nil/Projects/acidfile/docs/acidfile/.tox/dist/acidfile-1.1.0.zip\n",
        "py27 runtests: commands[0] | behave tests/features\n",
        "Feature: Basic file usage # tests/features/basic.feature:3\n",
        "  In order to use the package as developer I need to write and read\n",
        "  data from the file.\n",
        "  Scenario: Read and Write        # tests/features/basic.feature:7\n",
        "    Given an example acidfile     # tests/features/steps/steps.py:13\n",
        "    When I write some data        # tests/features/steps/steps.py:17\n",
        "    And I reopen it               # tests/features/steps/steps.py:25\n",
        "    Then I can read the same data # tests/features/steps/steps.py:30\n",
        "\n",
        "Feature: Acidfile must be consistent # tests/features/consistency.feature:3\n",
        "  The acidfile data must be discarded if the inner-file was modified\n",
        "  or damaged.\n",
        "  Scenario: One inner-file damaged       # tests/features/consistency.feature:7\n",
        "    Given an example acidfile            # tests/features/steps/steps.py:13\n",
        "    When I write some data               # tests/features/steps/steps.py:17\n",
        "    And I close the file                 # tests/features/steps/steps.py:34\n",
        "    And I corrupt one of the inner files # tests/features/steps/steps.py:64\n",
        "    And I open it again                  # tests/features/steps/steps.py:44\n",
        "    Then I can read the same data        # tests/features/steps/steps.py:30\n",
        "\n",
        "  Scenario: All inner-files damaged   # tests/features/consistency.feature:15\n",
        "    Given an example acidfile         # tests/features/steps/steps.py:13\n",
        "    When I write some data            # tests/features/steps/steps.py:17\n",
        "    And I close the file              # tests/features/steps/steps.py:34\n",
        "    And I corrupt all the inner files # tests/features/steps/steps.py:71\n",
        "    And I open it again               # tests/features/steps/steps.py:44\n",
        "    Then I can't read any data        # tests/features/steps/steps.py:55\n",
        "\n",
        "Feature: Use acidfile as a context manager. # tests/features/context.feature:3\n",
        "  As a programmer i'd like to use the acidfile as a context\n",
        "  manager as the open can.\n",
        "  Scenario: Read in context                                    # tests/features/context.feature:7\n",
        "    Given an example acidfile                                  # tests/features/steps/steps.py:13\n",
        "    When I write some data                                     # tests/features/steps/steps.py:17\n",
        "    And I close the file                                       # tests/features/steps/steps.py:34\n",
        "    Then I can open in a with statement and read the same data # tests/features/steps/steps.py:97\n",
        "\n",
        "  Scenario: Write in context                                   # tests/features/context.feature:13\n",
        "    Given an acidfile written in a with statement              # tests/features/steps/steps.py:102\n",
        "    Then I can open in a with statement and read the same data # tests/features/steps/steps.py:97\n",
        "\n",
        "Feature: The number of copies of inner-files must be configurable # tests/features/copies.feature:3\n",
        "  As a programmer i'd like to configure the number of inner-copies of the data\n",
        "  that would be written.\n",
        "  Scenario: One inner file is not possible                      # tests/features/copies.feature:7\n",
        "    Given an example acidfile with no copies must raise on init # tests/features/steps/steps.py:107\n",
        "\n",
        "  Scenario Outline: Inner-file copies       # tests/features/copies.feature:10\n",
        "    Given an example acidfile with 1 copies # tests/features/steps/steps.py:116\n",
        "    When I write some data                  # tests/features/steps/steps.py:17\n",
        "    And I close the file                    # tests/features/steps/steps.py:34\n",
        "    Then I can see 1 inner-files            # tests/features/steps/steps.py:121\n",
        "\n",
        "  Scenario Outline: Inner-file copies       # tests/features/copies.feature:10\n",
        "    Given an example acidfile with 2 copies # tests/features/steps/steps.py:116\n",
        "    When I write some data                  # tests/features/steps/steps.py:17\n",
        "    And I close the file                    # tests/features/steps/steps.py:34\n",
        "    Then I can see 2 inner-files            # tests/features/steps/steps.py:121\n",
        "\n",
        "  Scenario Outline: Inner-file copies       # tests/features/copies.feature:10\n",
        "    Given an example acidfile with 3 copies # tests/features/steps/steps.py:116\n",
        "    When I write some data                  # tests/features/steps/steps.py:17\n",
        "    And I close the file                    # tests/features/steps/steps.py:34\n",
        "    Then I can see 3 inner-files            # tests/features/steps/steps.py:121\n",
        "\n",
        "  Scenario Outline: Inner-file copies       # tests/features/copies.feature:10\n",
        "    Given an example acidfile with 4 copies # tests/features/steps/steps.py:116\n",
        "    When I write some data                  # tests/features/steps/steps.py:17\n",
        "    And I close the file                    # tests/features/steps/steps.py:34\n",
        "    Then I can see 4 inner-files            # tests/features/steps/steps.py:121\n",
        "\n",
        "Feature: Acidfile must be durable # tests/features/durability.feature:3\n",
        "  The acidfile data must survive even if one of the inner files that\n",
        "  support it is deleted.\n",
        "  Scenario: Inner-file deleted          # tests/features/durability.feature:7\n",
        "    Given an example acidfile           # tests/features/steps/steps.py:13\n",
        "    When I write some data              # tests/features/steps/steps.py:17\n",
        "    And I close the file                # tests/features/steps/steps.py:34\n",
        "    And I remove one of the inner files # tests/features/steps/steps.py:38\n",
        "    And I open it again                 # tests/features/steps/steps.py:44\n",
        "    Then I can read the same data       # tests/features/steps/steps.py:30\n",
        "\n",
        "  Scenario: All inner-files deleted  # tests/features/durability.feature:15\n",
        "    Given an example acidfile        # tests/features/steps/steps.py:13\n",
        "    When I write some data           # tests/features/steps/steps.py:17\n",
        "    And I close the file             # tests/features/steps/steps.py:34\n",
        "    And I remove all the inner files # tests/features/steps/steps.py:48\n",
        "    And I open it again              # tests/features/steps/steps.py:44\n",
        "    Then I can't read any data       # tests/features/steps/steps.py:55\n",
        "\n",
        "Feature: Extended file usage # tests/features/extended_file.feature:3\n",
        "  Acidfile must behave like any other file-like object so all the\n",
        "  not implemented method must be passed to de inner memory file.\n",
        "  Scenario: Seek the file             # tests/features/extended_file.feature:7\n",
        "    Given an example acidfile         # tests/features/steps/steps.py:13\n",
        "    When I write some data            # tests/features/steps/steps.py:17\n",
        "    And seek to the start of the file # tests/features/steps/steps.py:93\n",
        "    Then I can read the same data     # tests/features/steps/steps.py:30\n",
        "\n",
        "Feature: Acidfile must be isolated # tests/features/isolation.feature:3\n",
        "  The latest version of the data must be retrieved if two valid inner-files\n",
        "  were found.\n",
        "  Scenario Outline: First inner-file not updated               # tests/features/isolation.feature:7\n",
        "    Given an example acidfile                                  # tests/features/steps/steps.py:13\n",
        "    And an auxiliary acidfile                                  # tests/features/steps/steps.py:79\n",
        "    When I write some auxiliary data                           # tests/features/steps/steps.py:21\n",
        "    And I close the auxiliary file                             # tests/features/steps/steps.py:83\n",
        "    And I write some data                                      # tests/features/steps/steps.py:17\n",
        "    And I close the file                                       # tests/features/steps/steps.py:34\n",
        "    And replace example inner-file number 0 with auxiliary one # tests/features/steps/steps.py:87\n",
        "    And I open it again                                        # tests/features/steps/steps.py:44\n",
        "    Then I can read the same data                              # tests/features/steps/steps.py:30\n",
        "\n",
        "  Scenario Outline: First inner-file not updated               # tests/features/isolation.feature:7\n",
        "    Given an example acidfile                                  # tests/features/steps/steps.py:13\n",
        "    And an auxiliary acidfile                                  # tests/features/steps/steps.py:79\n",
        "    When I write some auxiliary data                           # tests/features/steps/steps.py:21\n",
        "    And I close the auxiliary file                             # tests/features/steps/steps.py:83\n",
        "    And I write some data                                      # tests/features/steps/steps.py:17\n",
        "    And I close the file                                       # tests/features/steps/steps.py:34\n",
        "    And replace example inner-file number 1 with auxiliary one # tests/features/steps/steps.py:87\n",
        "    And I open it again                                        # tests/features/steps/steps.py:44\n",
        "    Then I can read the same data                              # tests/features/steps/steps.py:30\n",
        "\n",
        "7 features passed, 0 failed, 0 skipped\n",
        "15 scenarios passed, 0 failed, 0 skipped\n",
        "73 steps passed, 0 failed, 0 skipped, 0 undefined\n",
        "Took 0m0.218s\n",
        "py33 create: /home/nil/Projects/acidfile/docs/acidfile/.tox/py33\n",
        "py33 installdeps: behave\n",
        "py33 inst: /home/nil/Projects/acidfile/docs/acidfile/.tox/dist/acidfile-1.1.0.zip\n",
        "py33 runtests: commands[0] | behave tests/features\n",
        "Feature: Basic file usage # tests/features/basic.feature:3\n",
        "  In order to use the package as developer I need to write and read\n",
        "  data from the file.\n",
        "  Scenario: Read and Write        # tests/features/basic.feature:7\n",
        "    Given an example acidfile     # tests/features/steps/steps.py:13\n",
        "    When I write some data        # tests/features/steps/steps.py:17\n",
        "    And I reopen it               # tests/features/steps/steps.py:25\n",
        "    Then I can read the same data # tests/features/steps/steps.py:30\n",
        "\n",
        "Feature: Acidfile must be consistent # tests/features/consistency.feature:3\n",
        "  The acidfile data must be discarded if the inner-file was modified\n",
        "  or damaged.\n",
        "  Scenario: One inner-file damaged       # tests/features/consistency.feature:7\n",
        "    Given an example acidfile            # tests/features/steps/steps.py:13\n",
        "    When I write some data               # tests/features/steps/steps.py:17\n",
        "    And I close the file                 # tests/features/steps/steps.py:34\n",
        "    And I corrupt one of the inner files # tests/features/steps/steps.py:64\n",
        "    And I open it again                  # tests/features/steps/steps.py:44\n",
        "    Then I can read the same data        # tests/features/steps/steps.py:30\n",
        "\n",
        "  Scenario: All inner-files damaged   # tests/features/consistency.feature:15\n",
        "    Given an example acidfile         # tests/features/steps/steps.py:13\n",
        "    When I write some data            # tests/features/steps/steps.py:17\n",
        "    And I close the file              # tests/features/steps/steps.py:34\n",
        "    And I corrupt all the inner files # tests/features/steps/steps.py:71\n",
        "    And I open it again               # tests/features/steps/steps.py:44\n",
        "    Then I can't read any data        # tests/features/steps/steps.py:55\n",
        "\n",
        "Feature: Use acidfile as a context manager. # tests/features/context.feature:3\n",
        "  As a programmer i'd like to use the acidfile as a context\n",
        "  manager as the open can.\n",
        "  Scenario: Read in context                                    # tests/features/context.feature:7\n",
        "    Given an example acidfile                                  # tests/features/steps/steps.py:13\n",
        "    When I write some data                                     # tests/features/steps/steps.py:17\n",
        "    And I close the file                                       # tests/features/steps/steps.py:34\n",
        "    Then I can open in a with statement and read the same data # tests/features/steps/steps.py:97\n",
        "\n",
        "  Scenario: Write in context                                   # tests/features/context.feature:13\n",
        "    Given an acidfile written in a with statement              # tests/features/steps/steps.py:102\n",
        "    Then I can open in a with statement and read the same data # tests/features/steps/steps.py:97\n",
        "\n",
        "Feature: The number of copies of inner-files must be configurable # tests/features/copies.feature:3\n",
        "  As a programmer i'd like to configure the number of inner-copies of the data\n",
        "  that would be written.\n",
        "  Scenario: One inner file is not possible                      # tests/features/copies.feature:7\n",
        "    Given an example acidfile with no copies must raise on init # tests/features/steps/steps.py:107\n",
        "\n",
        "  Scenario Outline: Inner-file copies       # tests/features/copies.feature:10\n",
        "    Given an example acidfile with 1 copies # tests/features/steps/steps.py:116\n",
        "    When I write some data                  # tests/features/steps/steps.py:17\n",
        "    And I close the file                    # tests/features/steps/steps.py:34\n",
        "    Then I can see 1 inner-files            # tests/features/steps/steps.py:121\n",
        "\n",
        "  Scenario Outline: Inner-file copies       # tests/features/copies.feature:10\n",
        "    Given an example acidfile with 2 copies # tests/features/steps/steps.py:116\n",
        "    When I write some data                  # tests/features/steps/steps.py:17\n",
        "    And I close the file                    # tests/features/steps/steps.py:34\n",
        "    Then I can see 2 inner-files            # tests/features/steps/steps.py:121\n",
        "\n",
        "  Scenario Outline: Inner-file copies       # tests/features/copies.feature:10\n",
        "    Given an example acidfile with 3 copies # tests/features/steps/steps.py:116\n",
        "    When I write some data                  # tests/features/steps/steps.py:17\n",
        "    And I close the file                    # tests/features/steps/steps.py:34\n",
        "    Then I can see 3 inner-files            # tests/features/steps/steps.py:121\n",
        "\n",
        "  Scenario Outline: Inner-file copies       # tests/features/copies.feature:10\n",
        "    Given an example acidfile with 4 copies # tests/features/steps/steps.py:116\n",
        "    When I write some data                  # tests/features/steps/steps.py:17\n",
        "    And I close the file                    # tests/features/steps/steps.py:34\n",
        "    Then I can see 4 inner-files            # tests/features/steps/steps.py:121\n",
        "\n",
        "Feature: Acidfile must be durable # tests/features/durability.feature:3\n",
        "  The acidfile data must survive even if one of the inner files that\n",
        "  support it is deleted.\n",
        "  Scenario: Inner-file deleted          # tests/features/durability.feature:7\n",
        "    Given an example acidfile           # tests/features/steps/steps.py:13\n",
        "    When I write some data              # tests/features/steps/steps.py:17\n",
        "    And I close the file                # tests/features/steps/steps.py:34\n",
        "    And I remove one of the inner files # tests/features/steps/steps.py:38\n",
        "    And I open it again                 # tests/features/steps/steps.py:44\n",
        "    Then I can read the same data       # tests/features/steps/steps.py:30\n",
        "\n",
        "  Scenario: All inner-files deleted  # tests/features/durability.feature:15\n",
        "    Given an example acidfile        # tests/features/steps/steps.py:13\n",
        "    When I write some data           # tests/features/steps/steps.py:17\n",
        "    And I close the file             # tests/features/steps/steps.py:34\n",
        "    And I remove all the inner files # tests/features/steps/steps.py:48\n",
        "    And I open it again              # tests/features/steps/steps.py:44\n",
        "    Then I can't read any data       # tests/features/steps/steps.py:55\n",
        "\n",
        "Feature: Extended file usage # tests/features/extended_file.feature:3\n",
        "  Acidfile must behave like any other file-like object so all the\n",
        "  not implemented method must be passed to de inner memory file.\n",
        "  Scenario: Seek the file             # tests/features/extended_file.feature:7\n",
        "    Given an example acidfile         # tests/features/steps/steps.py:13\n",
        "    When I write some data            # tests/features/steps/steps.py:17\n",
        "    And seek to the start of the file # tests/features/steps/steps.py:93\n",
        "    Then I can read the same data     # tests/features/steps/steps.py:30\n",
        "\n",
        "Feature: Acidfile must be isolated # tests/features/isolation.feature:3\n",
        "  The latest version of the data must be retrieved if two valid inner-files\n",
        "  were found.\n",
        "  Scenario Outline: First inner-file not updated               # tests/features/isolation.feature:7\n",
        "    Given an example acidfile                                  # tests/features/steps/steps.py:13\n",
        "    And an auxiliary acidfile                                  # tests/features/steps/steps.py:79\n",
        "    When I write some auxiliary data                           # tests/features/steps/steps.py:21\n",
        "    And I close the auxiliary file                             # tests/features/steps/steps.py:83\n",
        "    And I write some data                                      # tests/features/steps/steps.py:17\n",
        "    And I close the file                                       # tests/features/steps/steps.py:34\n",
        "    And replace example inner-file number 0 with auxiliary one # tests/features/steps/steps.py:87\n",
        "    And I open it again                                        # tests/features/steps/steps.py:44\n",
        "    Then I can read the same data                              # tests/features/steps/steps.py:30\n",
        "\n",
        "  Scenario Outline: First inner-file not updated               # tests/features/isolation.feature:7\n",
        "    Given an example acidfile                                  # tests/features/steps/steps.py:13\n",
        "    And an auxiliary acidfile                                  # tests/features/steps/steps.py:79\n",
        "    When I write some auxiliary data                           # tests/features/steps/steps.py:21\n",
        "    And I close the auxiliary file                             # tests/features/steps/steps.py:83\n",
        "    And I write some data                                      # tests/features/steps/steps.py:17\n",
        "    And I close the file                                       # tests/features/steps/steps.py:34\n",
        "    And replace example inner-file number 1 with auxiliary one # tests/features/steps/steps.py:87\n",
        "    And I open it again                                        # tests/features/steps/steps.py:44\n",
        "    Then I can read the same data                              # tests/features/steps/steps.py:30\n",
        "\n",
        "7 features passed, 0 failed, 0 skipped\n",
        "15 scenarios passed, 0 failed, 0 skipped\n",
        "73 steps passed, 0 failed, 0 skipped, 0 undefined\n",
        "Took 0m0.210s\n",
        "_______________________________________________ summary ________________________________________________\n",
        "  py27: commands succeeded\n",
        "  py33: commands succeeded\n",
        "  congratulations :)\n"
       ]
      }
     ],
     "prompt_number": 12
    },
    {
     "cell_type": "markdown",
     "metadata": {
      "slideshow": {
       "slide_type": "slide"
      }
     },
     "source": [
      "##Usage examples"
     ]
    },
    {
     "cell_type": "markdown",
     "metadata": {
      "slideshow": {
       "slide_type": "subslide"
      }
     },
     "source": [
      "###Basic usage\n",
      "####Writing"
     ]
    },
    {
     "cell_type": "code",
     "collapsed": false,
     "input": [
      "from acidfile import ACIDFile\n",
      "      \n",
      "myfile = ACIDFile('myfile.txt', 'w')\n",
      "myfile.write(b'Some important data.')\n",
      "myfile.close()"
     ],
     "language": "python",
     "metadata": {},
     "outputs": [],
     "prompt_number": 2
    },
    {
     "cell_type": "markdown",
     "metadata": {},
     "source": [
      "At the close invocation two copies will be written to disk: *myfile.txt.0* and\n",
      "below *myfile.txt.1*. Each one will have an creation timestamp and a HMAC\n",
      "signature."
     ]
    },
    {
     "cell_type": "code",
     "collapsed": false,
     "input": [
      "ls myfile.txt*"
     ],
     "language": "python",
     "metadata": {},
     "outputs": [
      {
       "output_type": "stream",
       "stream": "stdout",
       "text": [
        "myfile.txt.0  myfile.txt.1\r\n"
       ]
      }
     ],
     "prompt_number": 4
    },
    {
     "cell_type": "markdown",
     "metadata": {
      "slideshow": {
       "slide_type": "subslide"
      }
     },
     "source": [
      "###Basic usage\n",
      "####Reading"
     ]
    },
    {
     "cell_type": "code",
     "collapsed": false,
     "input": [
      "myfile = ACIDFile('myfile.txt', 'r')\n",
      "print(myfile.read())\n",
      "myfile.close()"
     ],
     "language": "python",
     "metadata": {},
     "outputs": [
      {
       "output_type": "stream",
       "stream": "stdout",
       "text": [
        "b'Some important data.'\n"
       ]
      }
     ],
     "prompt_number": 6
    },
    {
     "cell_type": "markdown",
     "metadata": {},
     "source": [
      "If any of the files is damaged due to turning off without proper shutdown or\n",
      "disk failure, manipulation, etc. It will be detected by the internal HMAC and\n",
      "the other's file data would be used instead."
     ]
    },
    {
     "cell_type": "markdown",
     "metadata": {},
     "source": [
      "If you want to read an `acidfile`, never pass the full path of the real file, instead use the file name that you use in the creation step.\n",
      "\n",
      "  - \u2717 ACIDFile('/tmp/myfile.txt.0', 'r') \n",
      "  - \u2717 ACIDFile('/tmp/myfile.txt.1', 'r')  \n",
      "  - \u2713 ACIDFile('/tmp/myfile.txt', 'r')"
     ]
    },
    {
     "cell_type": "markdown",
     "metadata": {
      "slideshow": {
       "slide_type": "subslide"
      }
     },
     "source": [
      "###Context manager\n",
      "\n",
      "ACIDFile can (and should) be used as a regular context manager:"
     ]
    },
    {
     "cell_type": "code",
     "collapsed": false,
     "input": [
      "with ACIDFile('myfile.txt', 'w') as myfile:\n",
      "    myfile.write(b'Some important data.')"
     ],
     "language": "python",
     "metadata": {},
     "outputs": [],
     "prompt_number": 7
    },
    {
     "cell_type": "markdown",
     "metadata": {
      "slideshow": {
       "slide_type": "subslide"
      }
     },
     "source": [
      "###Number of copies\n",
      "\n",
      "The number of inner copies of the data can be configured through the **copies**\n",
      "parameter."
     ]
    },
    {
     "cell_type": "code",
     "collapsed": false,
     "input": [
      "with ACIDFile('myfile.txt', 'w', copies=5) as myfile:\n",
      "    myfile.write(b'Some super important data.')"
     ],
     "language": "python",
     "metadata": {},
     "outputs": [],
     "prompt_number": 8
    },
    {
     "cell_type": "code",
     "collapsed": false,
     "input": [
      "ls myfile.txt*"
     ],
     "language": "python",
     "metadata": {},
     "outputs": [
      {
       "output_type": "stream",
       "stream": "stdout",
       "text": [
        "myfile.txt.0  myfile.txt.1  myfile.txt.2  myfile.txt.3  myfile.txt.4  myfile.txt.5\r\n"
       ]
      }
     ],
     "prompt_number": 9
    },
    {
     "cell_type": "markdown",
     "metadata": {
      "slideshow": {
       "slide_type": "subslide"
      }
     },
     "source": [
      "###Checksum Key\n",
      "\n",
      "The key used for compute and check the internal HMAC signature can be setted\n",
      "by the **key** parameter.\n",
      "\n",
      "It's recommended to change that key in order to protect against fraud, making\n",
      "more difficult for a tamperer to put a fake file in place of the legitimate\n",
      "one."
     ]
    },
    {
     "cell_type": "code",
     "collapsed": false,
     "input": [
      "with ACIDFile('myotherfile.txt', 'w', key=b'a better key for my file') as myfile:\n",
      "    myfile.write(b'Other stuff')"
     ],
     "language": "python",
     "metadata": {},
     "outputs": [],
     "prompt_number": 10
    },
    {
     "cell_type": "markdown",
     "metadata": {},
     "source": [
      "Without the valid key, the file can't be verified."
     ]
    },
    {
     "cell_type": "code",
     "collapsed": false,
     "input": [
      "with ACIDFile('myotherfile.txt', 'r', key=b'mismatching key') as myfile:\n",
      "    print(myfile.read())"
     ],
     "language": "python",
     "metadata": {},
     "outputs": [
      {
       "ename": "OSError",
       "evalue": "Can't read file",
       "output_type": "pyerr",
       "traceback": [
        "\u001b[1;31m---------------------------------------------------------------------------\u001b[0m\n\u001b[1;31mOSError\u001b[0m                                   Traceback (most recent call last)",
        "\u001b[1;32m<ipython-input-11-571c3fa9e6d2>\u001b[0m in \u001b[0;36m<module>\u001b[1;34m()\u001b[0m\n\u001b[0;32m      1\u001b[0m \u001b[1;32mwith\u001b[0m \u001b[0mACIDFile\u001b[0m\u001b[1;33m(\u001b[0m\u001b[1;34m'myotherfile.txt'\u001b[0m\u001b[1;33m,\u001b[0m \u001b[1;34m'r'\u001b[0m\u001b[1;33m,\u001b[0m \u001b[0mkey\u001b[0m\u001b[1;33m=\u001b[0m\u001b[1;34mb'mismatching key'\u001b[0m\u001b[1;33m)\u001b[0m \u001b[1;32mas\u001b[0m \u001b[0mmyfile\u001b[0m\u001b[1;33m:\u001b[0m\u001b[1;33m\u001b[0m\u001b[0m\n\u001b[1;32m----> 2\u001b[1;33m     \u001b[0mprint\u001b[0m\u001b[1;33m(\u001b[0m\u001b[0mmyfile\u001b[0m\u001b[1;33m.\u001b[0m\u001b[0mread\u001b[0m\u001b[1;33m(\u001b[0m\u001b[1;33m)\u001b[0m\u001b[1;33m)\u001b[0m\u001b[1;33m\u001b[0m\u001b[0m\n\u001b[0m",
        "\u001b[1;32m/home/nil/Envs/acidfile3/lib/python3.3/site-packages/acidfile/__init__.py\u001b[0m in \u001b[0;36mread\u001b[1;34m(self, size)\u001b[0m\n\u001b[0;32m     84\u001b[0m                             \u001b[1;32mcontinue\u001b[0m\u001b[1;33m\u001b[0m\u001b[0m\n\u001b[0;32m     85\u001b[0m             \u001b[1;32mif\u001b[0m \u001b[1;32mnot\u001b[0m \u001b[0mself\u001b[0m\u001b[1;33m.\u001b[0m\u001b[0mloaded\u001b[0m\u001b[1;33m:\u001b[0m\u001b[1;33m\u001b[0m\u001b[0m\n\u001b[1;32m---> 86\u001b[1;33m                 \u001b[1;32mraise\u001b[0m \u001b[0mIOError\u001b[0m\u001b[1;33m(\u001b[0m\u001b[1;34m\"Can't read file\"\u001b[0m\u001b[1;33m)\u001b[0m\u001b[1;33m\u001b[0m\u001b[0m\n\u001b[0m\u001b[0;32m     87\u001b[0m         \u001b[1;32mreturn\u001b[0m \u001b[0mself\u001b[0m\u001b[1;33m.\u001b[0m\u001b[0m_file\u001b[0m\u001b[1;33m.\u001b[0m\u001b[0mread\u001b[0m\u001b[1;33m(\u001b[0m\u001b[0msize\u001b[0m\u001b[1;33m)\u001b[0m\u001b[1;33m\u001b[0m\u001b[0m\n\u001b[0;32m     88\u001b[0m \u001b[1;33m\u001b[0m\u001b[0m\n",
        "\u001b[1;31mOSError\u001b[0m: Can't read file"
       ]
      }
     ],
     "prompt_number": 11
    },
    {
     "cell_type": "markdown",
     "metadata": {
      "slideshow": {
       "slide_type": "slide"
      }
     },
     "source": [
      "##Thank you!\n",
      "Thanks for watching!\n",
      "\n",
      "  - Author: [Roberto Abdelkader Mart\u00ednez P\u00e9rez (nilp0inter)](mailto:robertomartinezp@gmail.com)\n",
      "  - Code: [https://github.com/nilp0inter/acidfile](https://github.com/nilp0inter/acidfile)\n",
      "  - Issue tracker: [https://github.com/nilp0inter/acidfile/issues](https://github.com/nilp0inter/acidfile/issues)\n",
      "  - PyPI: [https://pypi.python.org/pypi/acidfile](https://pypi.python.org/pypi/acidfile)"
     ]
    }
   ],
   "metadata": {}
  }
 ]
}